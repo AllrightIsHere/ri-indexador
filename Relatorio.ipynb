{
 "cells": [
  {
   "cell_type": "markdown",
   "metadata": {},
   "source": [
    "# Relatório do TP2\n",
    "\n",
    "### Alunos:\n",
    "\n",
    " - Alexandre Luis\n",
    " - Diego Santos\n",
    " - Gabriel Arrighi"
   ]
  },
  {
   "cell_type": "markdown",
   "metadata": {},
   "source": [
    "### Após a criação o índice, ele deve ser gravado em arquivo (inclusive o vocabulário). Favor disponibilizar o link para que eu possa fazer o download do arquivo (via dropbox, por ex). Além de instruções completas para que eu possa abri-lo. A biblioteca json pode ajudar.\n",
    "        \n",
    " - Link dos arquivos: [https://drive.google.com/drive/folders/17qF8b8iuyoCByUO6wOB62cFfX82eOw73?usp=sharing](https://drive.google.com/drive/folders/17qF8b8iuyoCByUO6wOB62cFfX82eOw73?usp=sharing)\n",
    "\n",
    " - Para abrir o arquivo, as seguintes instruções são necessárias:\n",
    "\n",
    " ```\n",
    "    from index.indexer import *\n",
    "    from index.structure import *\n",
    "\n",
    "    wiki_idx = Index.read(\"wiki.idx\")\n",
    " ```\n",
    " "
   ]
  },
  {
   "cell_type": "markdown",
   "metadata": {},
   "source": [
    "Discussão sobre a decisão de implementação adotada:  \n",
    "\n",
    " - Quais foram os principais desafios e soluções?\n",
    "    - Os principais desafios encontrados foram a análise dos resultados. O teste do desafio 16 não estava de acordo com os testes. Foi gasto um grande tempo para tentar encontrar o motivo da diferença. O resultado do nosso trabalho deu 1251, porém os resultados dos outros trabalhos deram 1250.\n",
    " \n",
    " - Qual é a vantagem/desvantagem das suas soluções sob as outras alternativas (por exemplo, uso do índice em memória principal x ocorrência de termos em memória secundária)? \n",
    " \n",
    " - O que você melhoraria  no seu código para diminuir o consumo de memoria ou deixá-lo mais eficiente?\n",
    "   - Para diminuir o consumo de memória e deixá-lo mais eficiente foi utilizado uma lista maior de stopwords, afim de diminuir a quantidade de termos irrelevantes a serem indexados."
   ]
  },
  {
   "cell_type": "markdown",
   "metadata": {},
   "source": [
    "Quais são as bibliotecas externas utilizadas? Explique o funcionamento da técnica de stemming adotada.\n",
    "\n",
    " - As bibliotecas externas: nltk (SnowballStemmer e word_tokenize), bs4 (BeautifulSoup), pickle (dump e load)\n",
    "\n",
    " - Para cada página coletada, foi extraído seu conteúdo (removendo as tags HTML). Depois o texto foi transformado para ```LOWERCASE``` (e removido o acento, caso ```perform_accents_removal``` = True). Adiante, foi feito o ```word_tokenize```, gerando um vetor para cada token. Então, para cada token gerado foi verificado se ele ```não é acento```, e se não é ```stopword```. Como último passo foi feito o stemming, ou seja, foi removido o radical de cada termo. Para o funcionamento\n",
    "\n",
    " Na implementação do método stem definido para linguagem portuguesa do SnowballStemmer, são definidas 4 listas de sufixos, sendo eles:\n",
    "  - sufixos padrões conhecidos da linguagem (como \"-amentos\", \"-amente\", \"-adora\")\n",
    "  - sufixos verbais (como \"-eremos\", \"-iriam\", \"-assem\")\n",
    "  - na terceira etapa é feita uma regra arbitrária, se o radical restante termina com \"i\" e a palavra restante (após remover nas etapas anteriores) tiver como penúltima letra o C, a última letra dos dois elementos é removida\n",
    "  - na etapa 4 são removidos alguns sufixos residuais caso as etapas anteriores não tenham sido executadas (ex: \"-os\", \"-a\", \"-i\", \"-o\")\n",
    "  - na última etapa são tratados casos particulares de palavras terminadas com \"gu\" e \"ci\". Além disso, letras como \"ç\", \"ã\" e \"õ\" são normalizadas."
   ]
  },
  {
   "cell_type": "markdown",
   "metadata": {},
   "source": [
    "Qual foi a estrutura do índice utilizado? Quanto MB de ram cada solução de índice gastou? Em quanto tempo foi realizado a indexação? Qual foi a média por documento?"
   ]
  }
 ],
 "metadata": {
  "language_info": {
   "name": "python"
  },
  "orig_nbformat": 4
 },
 "nbformat": 4,
 "nbformat_minor": 2
}
